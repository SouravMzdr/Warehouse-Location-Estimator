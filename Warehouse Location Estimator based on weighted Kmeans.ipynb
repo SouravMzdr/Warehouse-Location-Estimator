{
 "cells": [
  {
   "cell_type": "code",
   "execution_count": 19,
   "metadata": {},
   "outputs": [],
   "source": [
    "import pandas as pd\n",
    "import numpy as np\n",
    "import seaborn as sns\n",
    "import matplotlib.pyplot as plt\n",
    "import random\n",
    "from sklearn import preprocessing \n",
    "from math import radians, cos, sin, asin, sqrt,inf"
   ]
  },
  {
   "cell_type": "code",
   "execution_count": 20,
   "metadata": {},
   "outputs": [],
   "source": [
    "def haversine(x, y):\n",
    "    \"\"\"\n",
    "    Calculate the great circle distance between two points \n",
    "    on the earth (specified in decimal degrees)\n",
    "    \"\"\"\n",
    "    # convert decimal degrees to radians \n",
    "    #lon1, lat1, lon2, lat2 = map(radians, [lon1, lat1, lon2, lat2])\n",
    "    lon1, lat1 = map(radians, x)\n",
    "    lon2, lat2 = map(radians, y)\n",
    "    \n",
    "    \n",
    "    # haversine formula \n",
    "    dlon = lon2 - lon1 \n",
    "    dlat = lat2 - lat1 \n",
    "    a = sin(dlat/2)**2 + cos(lat1) * cos(lat2) * sin(dlon/2)**2\n",
    "    c = 2 * asin(sqrt(a)) \n",
    "    r = 6371000 # Radius of earth in kilometers. Use 3956 for miles\n",
    "    return c * r"
   ]
  },
  {
   "cell_type": "code",
   "execution_count": 21,
   "metadata": {},
   "outputs": [
    {
     "data": {
      "text/html": [
       "<div>\n",
       "<style scoped>\n",
       "    .dataframe tbody tr th:only-of-type {\n",
       "        vertical-align: middle;\n",
       "    }\n",
       "\n",
       "    .dataframe tbody tr th {\n",
       "        vertical-align: top;\n",
       "    }\n",
       "\n",
       "    .dataframe thead th {\n",
       "        text-align: right;\n",
       "    }\n",
       "</style>\n",
       "<table border=\"1\" class=\"dataframe\">\n",
       "  <thead>\n",
       "    <tr style=\"text-align: right;\">\n",
       "      <th></th>\n",
       "      <th>name</th>\n",
       "      <th>longitude</th>\n",
       "      <th>latitude</th>\n",
       "      <th>population</th>\n",
       "    </tr>\n",
       "  </thead>\n",
       "  <tbody>\n",
       "    <tr>\n",
       "      <th>0</th>\n",
       "      <td>Kota Cilegon</td>\n",
       "      <td>106.040506</td>\n",
       "      <td>-6.016983</td>\n",
       "      <td>431305</td>\n",
       "    </tr>\n",
       "    <tr>\n",
       "      <th>1</th>\n",
       "      <td>Kabupaten Pandeglang</td>\n",
       "      <td>106.103897</td>\n",
       "      <td>-6.314835</td>\n",
       "      <td>1209011</td>\n",
       "    </tr>\n",
       "    <tr>\n",
       "      <th>2</th>\n",
       "      <td>Kabupaten Serang</td>\n",
       "      <td>106.150299</td>\n",
       "      <td>-6.120090</td>\n",
       "      <td>1501501</td>\n",
       "    </tr>\n",
       "    <tr>\n",
       "      <th>3</th>\n",
       "      <td>Kota Serang</td>\n",
       "      <td>106.150299</td>\n",
       "      <td>-6.120090</td>\n",
       "      <td>677804</td>\n",
       "    </tr>\n",
       "    <tr>\n",
       "      <th>4</th>\n",
       "      <td>Kabupaten Lebak</td>\n",
       "      <td>106.252214</td>\n",
       "      <td>-6.564396</td>\n",
       "      <td>1295810</td>\n",
       "    </tr>\n",
       "  </tbody>\n",
       "</table>\n",
       "</div>"
      ],
      "text/plain": [
       "                   name   longitude  latitude  population\n",
       "0          Kota Cilegon  106.040506 -6.016983      431305\n",
       "1  Kabupaten Pandeglang  106.103897 -6.314835     1209011\n",
       "2      Kabupaten Serang  106.150299 -6.120090     1501501\n",
       "3           Kota Serang  106.150299 -6.120090      677804\n",
       "4       Kabupaten Lebak  106.252214 -6.564396     1295810"
      ]
     },
     "execution_count": 21,
     "metadata": {},
     "output_type": "execute_result"
    }
   ],
   "source": [
    "df = pd.read_csv('city_data.csv')\n",
    "df.head()"
   ]
  },
  {
   "cell_type": "code",
   "execution_count": 22,
   "metadata": {},
   "outputs": [
    {
     "data": {
      "text/plain": [
       "<matplotlib.axes._subplots.AxesSubplot at 0x7f58b6b776a0>"
      ]
     },
     "execution_count": 22,
     "metadata": {},
     "output_type": "execute_result"
    },
    {
     "data": {
      "image/png": "[encoded data removed]",
      "text/plain": [
       "<Figure size 432x288 with 1 Axes>"
      ]
     },
     "metadata": {
      "needs_background": "light"
     },
     "output_type": "display_data"
    }
   ],
   "source": [
    "#Visualizing the location of the cities\n",
    "sns.scatterplot(x='longitude',y='latitude',size='population',data=df)"
   ]
  },
  {
   "cell_type": "markdown",
   "metadata": {},
   "source": [
    "## Basic K-means algorithm.\n",
    "1. Select K points as initial centroids.\n",
    "2. repeat\n",
    "    1. form K clusters by assigning each point to its closest centroid.\n",
    "    2. Recompute the centroid of each cluster.\n",
    "5. until Centroids do not change"
   ]
  },
  {
   "cell_type": "code",
   "execution_count": 26,
   "metadata": {},
   "outputs": [],
   "source": [
    "def assign(city,centroids):\n",
    "    min_dist = inf\n",
    "\n",
    "    for i in range(len(centroids)):\n",
    "        dist = haversine(city,centroids[i])\n",
    "        \n",
    "        if dist < min_dist:\n",
    "            min_dist = dist\n",
    "            c = i\n",
    "    return c"
   ]
  },
  {
   "cell_type": "code",
   "execution_count": 27,
   "metadata": {},
   "outputs": [],
   "source": [
    "def weightedKmeans(data ,weights,k,iteration):\n",
    "    X = data\n",
    "    y = weights\n",
    "    #Select k initial centroids\n",
    "    idx = [ np.random.randint(0,len(X)-1) for i in range(k)]\n",
    "    centroids=X[idx,:]\n",
    "    old_centroids = centroids\n",
    "\n",
    "    for i in range(iteration):\n",
    "        print('Iteration no:',i+1)\n",
    "\n",
    "        labels=[]\n",
    "        #Assign each point to its closest centroid\n",
    "        for city,population in zip(X,y):\n",
    "            labels.append(assign(city,centroids))\n",
    "        labels = np.asarray(labels,dtype='int64')\n",
    "\n",
    "        #Calculate new centroid based on mean of all datapoints\n",
    "        centroids = np.array([np.average(X[labels == i],weights=y[labels== i],axis=0) for i in range(k)])\n",
    "\n",
    "        if (centroids == old_centroids).all():\n",
    "            print('Converged!!')\n",
    "            return labels, centroids\n",
    "        \n",
    "        old_centroids = centroids\n",
    "    print(\"Not converged!Try with more iterations\")\n",
    "    return labels, centroids"
   ]
  },
  {
   "cell_type": "markdown",
   "metadata": {},
   "source": [
    "## Finding the location of Warehouses based on weighted K Means\n",
    "\n",
    "#### We take the population of each city into consideration"
   ]
  },
  {
   "cell_type": "code",
   "execution_count": 28,
   "metadata": {},
   "outputs": [
    {
     "name": "stdout",
     "output_type": "stream",
     "text": [
      "Iteration no: 1\n",
      "Iteration no: 2\n",
      "Iteration no: 3\n",
      "Iteration no: 4\n",
      "Iteration no: 5\n",
      "Iteration no: 6\n",
      "Iteration no: 7\n",
      "Iteration no: 8\n",
      "Iteration no: 9\n",
      "Iteration no: 10\n",
      "Iteration no: 11\n",
      "Converged!!\n",
      "Warehouse 1 : Long = 110.77351059697715, Lat = -7.352509247866985\n",
      "Warehouse 2 : Long = 107.95662217457269, Lat = -6.908693481093608\n",
      "Warehouse 3 : Long = 109.28502077462261, Lat = -7.229124385776869\n",
      "Warehouse 4 : Long = 106.79316054621066, Lat = -6.370564062099096\n",
      "Warehouse 5 : Long = 112.98472104919021, Lat = -7.7430396427836135\n"
     ]
    },
    {
     "data": {
      "image/png": "[encoded data removed]",
      "text/plain": [
       "<Figure size 432x288 with 1 Axes>"
      ]
     },
     "metadata": {
      "needs_background": "light"
     },
     "output_type": "display_data"
    }
   ],
   "source": [
    "data = np.array(df.drop(['name','population'],axis=1))\n",
    "population = np.array(df['population'])\n",
    "labels , centroids = weightedKmeans(data=data, weights=population,k=5,iteration=20)\n",
    "\n",
    "# plt.scatter(data[:,0], data[:,1], c=labels,s=10,cmap='tab20b',marker='x')\n",
    "sns.scatterplot(x='longitude',y='latitude',size='population',data=df)\n",
    "sns.scatterplot(x='longitude',y='latitude',size='population',data=df)\n",
    "\n",
    "# plt.scatter(centroids[:, 0], centroids[:, 1], c='black', s=500, alpha=0.5);\n",
    "\n",
    "for index,coord in enumerate(centroids):\n",
    "    print(\"Warehouse {} : Long = {}, Lat = {}\".format(index+1,coord[0],coord[1]))"
   ]
  },
  {
   "cell_type": "markdown",
   "metadata": {},
   "source": [
    "## Finding the location of Warehouses based on non weighted K Means\n",
    "\n",
    "####  Population of the cities are not taken into consideration"
   ]
  },
  {
   "cell_type": "code",
   "execution_count": 1,
   "metadata": {},
   "outputs": [
    {
     "ename": "NameError",
     "evalue": "name 'np' is not defined",
     "output_type": "error",
     "traceback": [
      "\u001b[0;31m---------------------------------------------------------------------------\u001b[0m",
      "\u001b[0;31mNameError\u001b[0m                                 Traceback (most recent call last)",
      "\u001b[0;32m<ipython-input-1-45c858db55ce>\u001b[0m in \u001b[0;36m<module>\u001b[0;34m\u001b[0m\n\u001b[0;32m----> 1\u001b[0;31m \u001b[0mdummy_weigths\u001b[0m \u001b[0;34m=\u001b[0m \u001b[0mnp\u001b[0m\u001b[0;34m.\u001b[0m\u001b[0mones\u001b[0m\u001b[0;34m(\u001b[0m\u001b[0;34m(\u001b[0m\u001b[0mdata\u001b[0m\u001b[0;34m.\u001b[0m\u001b[0mshape\u001b[0m\u001b[0;34m[\u001b[0m\u001b[0;36m0\u001b[0m\u001b[0;34m]\u001b[0m\u001b[0;34m)\u001b[0m\u001b[0;34m)\u001b[0m\u001b[0;34m\u001b[0m\u001b[0;34m\u001b[0m\u001b[0m\n\u001b[0m\u001b[1;32m      2\u001b[0m \u001b[0mlabels\u001b[0m \u001b[0;34m,\u001b[0m \u001b[0mcentroids\u001b[0m \u001b[0;34m=\u001b[0m \u001b[0mweightedKmeans\u001b[0m\u001b[0;34m(\u001b[0m\u001b[0mdata\u001b[0m\u001b[0;34m=\u001b[0m\u001b[0mdata\u001b[0m\u001b[0;34m,\u001b[0m \u001b[0mweights\u001b[0m\u001b[0;34m=\u001b[0m\u001b[0mdummy_weigths\u001b[0m\u001b[0;34m,\u001b[0m\u001b[0mk\u001b[0m\u001b[0;34m=\u001b[0m\u001b[0;36m5\u001b[0m\u001b[0;34m,\u001b[0m\u001b[0miteration\u001b[0m\u001b[0;34m=\u001b[0m\u001b[0;36m20\u001b[0m\u001b[0;34m)\u001b[0m\u001b[0;34m\u001b[0m\u001b[0;34m\u001b[0m\u001b[0m\n\u001b[1;32m      3\u001b[0m \u001b[0;34m\u001b[0m\u001b[0m\n\u001b[1;32m      4\u001b[0m \u001b[0mplt\u001b[0m\u001b[0;34m.\u001b[0m\u001b[0mscatter\u001b[0m\u001b[0;34m(\u001b[0m\u001b[0mdata\u001b[0m\u001b[0;34m[\u001b[0m\u001b[0;34m:\u001b[0m\u001b[0;34m,\u001b[0m\u001b[0;36m0\u001b[0m\u001b[0;34m]\u001b[0m\u001b[0;34m,\u001b[0m \u001b[0mdata\u001b[0m\u001b[0;34m[\u001b[0m\u001b[0;34m:\u001b[0m\u001b[0;34m,\u001b[0m\u001b[0;36m1\u001b[0m\u001b[0;34m]\u001b[0m\u001b[0;34m,\u001b[0m \u001b[0mc\u001b[0m\u001b[0;34m=\u001b[0m\u001b[0mlabels\u001b[0m\u001b[0;34m,\u001b[0m\u001b[0ms\u001b[0m\u001b[0;34m=\u001b[0m\u001b[0;36m10\u001b[0m\u001b[0;34m,\u001b[0m\u001b[0mcmap\u001b[0m\u001b[0;34m=\u001b[0m\u001b[0;34m'tab20b'\u001b[0m\u001b[0;34m,\u001b[0m\u001b[0mmarker\u001b[0m\u001b[0;34m=\u001b[0m\u001b[0;34m'x'\u001b[0m\u001b[0;34m)\u001b[0m\u001b[0;34m\u001b[0m\u001b[0;34m\u001b[0m\u001b[0m\n\u001b[1;32m      5\u001b[0m \u001b[0mplt\u001b[0m\u001b[0;34m.\u001b[0m\u001b[0mscatter\u001b[0m\u001b[0;34m(\u001b[0m\u001b[0mcentroids\u001b[0m\u001b[0;34m[\u001b[0m\u001b[0;34m:\u001b[0m\u001b[0;34m,\u001b[0m \u001b[0;36m0\u001b[0m\u001b[0;34m]\u001b[0m\u001b[0;34m,\u001b[0m \u001b[0mcentroids\u001b[0m\u001b[0;34m[\u001b[0m\u001b[0;34m:\u001b[0m\u001b[0;34m,\u001b[0m \u001b[0;36m1\u001b[0m\u001b[0;34m]\u001b[0m\u001b[0;34m,\u001b[0m \u001b[0mc\u001b[0m\u001b[0;34m=\u001b[0m\u001b[0;34m'black'\u001b[0m\u001b[0;34m,\u001b[0m \u001b[0ms\u001b[0m\u001b[0;34m=\u001b[0m\u001b[0;36m500\u001b[0m\u001b[0;34m,\u001b[0m \u001b[0malpha\u001b[0m\u001b[0;34m=\u001b[0m\u001b[0;36m0.5\u001b[0m\u001b[0;34m)\u001b[0m\u001b[0;34m;\u001b[0m\u001b[0;34m\u001b[0m\u001b[0;34m\u001b[0m\u001b[0m\n",
      "\u001b[0;31mNameError\u001b[0m: name 'np' is not defined"
     ]
    }
   ],
   "source": [
    "dummy_weigths = np.ones((data.shape[0]))\n",
    "labels , centroids = weightedKmeans(data=data, weights=dummy_weigths,k=5,iteration=20)\n",
    "\n",
    "plt.scatter(data[:,0], data[:,1], c=labels,s=10,cmap='tab20b',marker='x')\n",
    "plt.scatter(centroids[:, 0], centroids[:, 1], c='black', s=500, alpha=0.5);\n",
    "\n",
    "for index,coord in enumerate(centroids):\n",
    "    print(\"Warehouse {} : Long = {}, Lat = {}\".format(index+1,coord[0],coord[1]))"
   ]
  },
  {
   "cell_type": "markdown",
   "metadata": {},
   "source": [
    "## Conclusion\n",
    "\n",
    "We find that the location of some of the warehouses change when we take the population of each city in factor while calculating the centroids of each cluster"
   ]
  },
  {
   "cell_type": "code",
   "execution_count": null,
   "metadata": {},
   "outputs": [],
   "source": []
  }
 ],
 "metadata": {
  "kernelspec": {
   "display_name": "Python 3",
   "language": "python",
   "name": "python3"
  },
  "language_info": {
   "codemirror_mode": {
    "name": "ipython",
    "version": 3
   },
   "file_extension": ".py",
   "mimetype": "text/x-python",
   "name": "python",
   "nbconvert_exporter": "python",
   "pygments_lexer": "ipython3",
   "version": "3.8.3"
  }
 },
 "nbformat": 4,
 "nbformat_minor": 4
}
